{
 "cells": [
  {
   "cell_type": "code",
   "execution_count": null,
   "id": "88ce0f3d",
   "metadata": {},
   "outputs": [],
   "source": []
  }
 ],
 "metadata": {
  "language_info": {
   "name": "python"
  }
 },
 "nbformat": 4,
 "nbformat_minor": 5
}
