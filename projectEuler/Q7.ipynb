{
 "cells": [
  {
   "cell_type": "markdown",
   "id": "570a48b9",
   "metadata": {},
   "source": [
    "Question 07"
   ]
  },
  {
   "cell_type": "code",
   "execution_count": 1,
   "id": "0de51ed9",
   "metadata": {},
   "outputs": [],
   "source": [
    "def isPrime(num):\n",
    "    if num<2:\n",
    "        return False\n",
    "    for i in range(2,int(num**0.5)+1):  \n",
    "        if num%i==0:\n",
    "            return False\n",
    "    return True"
   ]
  },
  {
   "cell_type": "code",
   "execution_count": 11,
   "id": "b46cc459",
   "metadata": {},
   "outputs": [],
   "source": [
    "count=0\n",
    "n=0"
   ]
  },
  {
   "cell_type": "code",
   "execution_count": 12,
   "id": "20c04050",
   "metadata": {},
   "outputs": [],
   "source": [
    "while count<10001:\n",
    "    n+=1\n",
    "    if isPrime(n)==True:\n",
    "        count+=1\n",
    "    "
   ]
  },
  {
   "cell_type": "code",
   "execution_count": 13,
   "id": "84e3095c",
   "metadata": {},
   "outputs": [
    {
     "name": "stdout",
     "output_type": "stream",
     "text": [
      "104743\n"
     ]
    }
   ],
   "source": [
    "print(n)"
   ]
  }
 ],
 "metadata": {
  "kernelspec": {
   "display_name": "Python 3",
   "language": "python",
   "name": "python3"
  },
  "language_info": {
   "codemirror_mode": {
    "name": "ipython",
    "version": 3
   },
   "file_extension": ".py",
   "mimetype": "text/x-python",
   "name": "python",
   "nbconvert_exporter": "python",
   "pygments_lexer": "ipython3",
   "version": "3.12.4"
  }
 },
 "nbformat": 4,
 "nbformat_minor": 5
}
