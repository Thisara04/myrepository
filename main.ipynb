{
 "cells": [
  {
   "cell_type": "code",
   "execution_count": 2,
   "id": "38592b92",
   "metadata": {},
   "outputs": [
    {
     "name": "stdout",
     "output_type": "stream",
     "text": [
      "The median is: 6\n"
     ]
    }
   ],
   "source": [
    "import statistics\n",
    "\n",
    "data = [1, 3, 3, 6, 7, 8, 9]\n",
    "median_value = statistics.median(data)\n",
    "print(f\"The median is: {median_value}\")\n"
   ]
  },
  {
   "cell_type": "code",
   "execution_count": 3,
   "id": "24373099",
   "metadata": {},
   "outputs": [
    {
     "name": "stdout",
     "output_type": "stream",
     "text": [
      "Original data: [1, 3, 3, 6, 7, 8, 9]\n",
      "Moving average (window=3): [2.3333333333333335, 4.0, 5.333333333333333, 7.0, 8.0]\n"
     ]
    }
   ],
   "source": [
    "def moving_average(data, window_size):\n",
    "    averages = []\n",
    "    for i in range(len(data) - window_size + 1):\n",
    "        window = data[i:i + window_size]\n",
    "        avg = sum(window) / window_size\n",
    "        averages.append(avg)\n",
    "    return averages\n",
    "\n",
    "\n",
    "data = [1, 3, 3, 6, 7, 8, 9]\n",
    "window_size = 3\n",
    "ma_values = moving_average(data, window_size)\n",
    "\n",
    "print(f\"Original data: {data}\")\n",
    "print(f\"Moving average (window={window_size}): {ma_values}\")\n"
   ]
  }
 ],
 "metadata": {
  "kernelspec": {
   "display_name": "Python 3",
   "language": "python",
   "name": "python3"
  },
  "language_info": {
   "codemirror_mode": {
    "name": "ipython",
    "version": 3
   },
   "file_extension": ".py",
   "mimetype": "text/x-python",
   "name": "python",
   "nbconvert_exporter": "python",
   "pygments_lexer": "ipython3",
   "version": "3.12.4"
  }
 },
 "nbformat": 4,
 "nbformat_minor": 5
}
