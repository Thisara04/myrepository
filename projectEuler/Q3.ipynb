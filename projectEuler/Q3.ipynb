{
 "cells": [
  {
   "cell_type": "code",
   "execution_count": 1,
   "id": "893e6b54",
   "metadata": {},
   "outputs": [],
   "source": [
    "def isPrime(num):\n",
    "    if num<2:\n",
    "        return False\n",
    "    for i in range(2,int(num**0.5)+1):\n",
    "        if num%i==0:\n",
    "            return False\n",
    "    return True"
   ]
  },
  {
   "cell_type": "code",
   "execution_count": 27,
   "id": "73480591",
   "metadata": {},
   "outputs": [],
   "source": [
    "primeFactors=[]\n",
    "num=600851475143"
   ]
  },
  {
   "cell_type": "code",
   "execution_count": 28,
   "id": "908a5b2e",
   "metadata": {},
   "outputs": [
    {
     "name": "stdout",
     "output_type": "stream",
     "text": [
      "[]\n"
     ]
    }
   ],
   "source": [
    "while num%2==0:\n",
    "    primeFactors.append(2)\n",
    "    num=num/2\n",
    "print(primeFactors)"
   ]
  },
  {
   "cell_type": "code",
   "execution_count": 29,
   "id": "1e98eae1",
   "metadata": {},
   "outputs": [],
   "source": [
    "for i in range(3,int(num)+1,2):\n",
    "    while num%i==0:\n",
    "        primeFactors.append(i)\n",
    "        num=num/i\n",
    "    if num==1:break"
   ]
  },
  {
   "cell_type": "code",
   "execution_count": 30,
   "id": "a02c1797",
   "metadata": {},
   "outputs": [
    {
     "name": "stdout",
     "output_type": "stream",
     "text": [
      "largest prime factor: 6857\n"
     ]
    }
   ],
   "source": [
    "n=len(primeFactors)\n",
    "largestPrimeFac = primeFactors[n-1]\n",
    "print(f\"largest prime factor: {largestPrimeFac}\")"
   ]
  },
  {
   "cell_type": "code",
   "execution_count": 31,
   "id": "ebebeaba",
   "metadata": {},
   "outputs": [
    {
     "name": "stdout",
     "output_type": "stream",
     "text": [
      "prime\n"
     ]
    }
   ],
   "source": [
    "if isPrime(largestPrimeFac)==True: print(\"prime\")\n",
    "else: print(\"non-prime\")"
   ]
  }
 ],
 "metadata": {
  "kernelspec": {
   "display_name": "Python 3",
   "language": "python",
   "name": "python3"
  },
  "language_info": {
   "codemirror_mode": {
    "name": "ipython",
    "version": 3
   },
   "file_extension": ".py",
   "mimetype": "text/x-python",
   "name": "python",
   "nbconvert_exporter": "python",
   "pygments_lexer": "ipython3",
   "version": "3.12.4"
  }
 },
 "nbformat": 4,
 "nbformat_minor": 5
}
