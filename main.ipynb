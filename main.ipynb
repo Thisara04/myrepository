{
 "cells": [
  {
   "cell_type": "code",
   "execution_count": 1,
   "id": "e4490806",
   "metadata": {},
   "outputs": [
    {
     "name": "stdout",
     "output_type": "stream",
     "text": [
      "helloThisara!\n"
     ]
    }
   ],
   "source": [
    "def HelloWorld(name):\n",
    "    text = \"hello\"+name+\"!\"\n",
    "    print(text)\n",
    "    return\n",
    "HelloWorld(\"Thisara\")"
   ]
  },
  {
   "cell_type": "code",
   "execution_count": 2,
   "id": "ee9eabd3",
   "metadata": {},
   "outputs": [
    {
     "data": {
      "text/plain": [
       "Exception"
      ]
     },
     "execution_count": 2,
     "metadata": {},
     "output_type": "execute_result"
    }
   ],
   "source": [
    "Exception"
   ]
  },
  {
   "cell_type": "code",
   "execution_count": 6,
   "id": "b878d566",
   "metadata": {},
   "outputs": [
    {
     "name": "stdout",
     "output_type": "stream",
     "text": [
      "total 4999950000\n",
      "calculate sum: 0.0030 seconds\n"
     ]
    }
   ],
   "source": [
    "from contextlib import contextmanager\n",
    "import time\n",
    "\n",
    "@contextmanager\n",
    "def timer(label:str):\n",
    "    start=time.time()\n",
    "    try:\n",
    "        yield\n",
    "    finally:\n",
    "        end=time.time()\n",
    "    print(f\"{label}: {end-start:.4f} seconds\")\n",
    "\n",
    "with timer(\"calculate sum\"):\n",
    "    total=sum(range(1,100000))\n",
    "    print(f\"total {total}\")"
   ]
  },
  {
   "cell_type": "code",
   "execution_count": null,
   "id": "976d127c",
   "metadata": {},
   "outputs": [
    {
     "name": "stdout",
     "output_type": "stream",
     "text": [
      "['chamber of the secrets \\n', 'chamber of the secrets \\n', 'chamber of the secrets \\n', 'chamber of the secrets \\n', 'chamber of the secrets \\n', 'chamber of the secrets \\n', '\\n', 'chamber of the secrets \\n', 'chamber of the secrets \\n', 'chamber of the secrets \\n', '\\n', 'chamber of the secrets \\n', 'chamber of the secrets \\n', 'chamber of the secrets ']\n"
     ]
    }
   ],
   "source": [
    "with open(\"sample.txt\",\"r\") as file:\n",
    "    lines=file.readlines()\n",
    "    print(lines)"
   ]
  },
  {
   "cell_type": "code",
   "execution_count": 10,
   "id": "8bb25248",
   "metadata": {},
   "outputs": [],
   "source": [
    "def getPrimes(n:int):\n",
    "    for num in range(1,n+1):\n",
    "        isPrime=True\n",
    "        for i in range(2,int(num**0.5)+1):\n",
    "            if num%i==0:\n",
    "                isPrime=False\n",
    "                break\n",
    "        if isPrime:\n",
    "            yield num        "
   ]
  },
  {
   "cell_type": "code",
   "execution_count": 11,
   "id": "7d7e5798",
   "metadata": {},
   "outputs": [],
   "source": [
    "primes=getPrimes(20)"
   ]
  },
  {
   "cell_type": "code",
   "execution_count": 12,
   "id": "5b96db3b",
   "metadata": {},
   "outputs": [
    {
     "data": {
      "text/plain": [
       "1"
      ]
     },
     "execution_count": 12,
     "metadata": {},
     "output_type": "execute_result"
    }
   ],
   "source": [
    "primes.__next__()"
   ]
  },
  {
   "cell_type": "code",
   "execution_count": 14,
   "id": "4f5c51ea",
   "metadata": {},
   "outputs": [
    {
     "name": "stdout",
     "output_type": "stream",
     "text": [
      "13\n",
      "17\n",
      "19\n"
     ]
    }
   ],
   "source": [
    "for prime in primes:\n",
    "    if prime<10:\n",
    "        break\n",
    "    print(prime)"
   ]
  },
  {
   "cell_type": "code",
   "execution_count": 15,
   "id": "f78dbe29",
   "metadata": {},
   "outputs": [
    {
     "name": "stdout",
     "output_type": "stream",
     "text": [
      "8.0\n"
     ]
    }
   ],
   "source": [
    "from statistics import median\n",
    "data=[1,3,5,7,9,11,13,15]\n",
    "meadianValue=median(data)\n",
    "print(meadianValue)"
   ]
  },
  {
   "cell_type": "code",
   "execution_count": 18,
   "id": "85844237",
   "metadata": {},
   "outputs": [],
   "source": [
    "mat1=[[1,2,3],[4,6,5]] #2by3\n",
    "mat2=[[2,4,3],[5,6,3],[7,5,4]] #3by3\n",
    "\n",
    "def MatProduct(mat1,mat2):\n",
    "    result=[[0 for _ in range(mat2[0])] for _ in range(mat1)]  #2by3 0 matrix\n",
    "\n",
    "    for i in range(len(mat1)):\n",
    "        for k in range(len(mat2[0])):\n",
    "            for j in range(len(mat2)):\n",
    "                result[i][k]+=mat1[i][j]*mat2[j][k]\n",
    "    return result\n",
    "    \n"
   ]
  },
  {
   "cell_type": "code",
   "execution_count": 20,
   "id": "c73484d4",
   "metadata": {},
   "outputs": [
    {
     "ename": "TypeError",
     "evalue": "'list' object cannot be interpreted as an integer",
     "output_type": "error",
     "traceback": [
      "\u001b[31m---------------------------------------------------------------------------\u001b[39m",
      "\u001b[31mTypeError\u001b[39m                                 Traceback (most recent call last)",
      "\u001b[36mCell\u001b[39m\u001b[36m \u001b[39m\u001b[32mIn[20]\u001b[39m\u001b[32m, line 2\u001b[39m\n\u001b[32m      1\u001b[39m \u001b[38;5;28;01mwith\u001b[39;00m timer(\u001b[33m\"\u001b[39m\u001b[33mmatrix multiplication: \u001b[39m\u001b[33m\"\u001b[39m):\n\u001b[32m----> \u001b[39m\u001b[32m2\u001b[39m     product = \u001b[43mMatProduct\u001b[49m\u001b[43m(\u001b[49m\u001b[43mmat1\u001b[49m\u001b[43m,\u001b[49m\u001b[43mmat2\u001b[49m\u001b[43m)\u001b[49m\n\u001b[32m      3\u001b[39m     \u001b[38;5;28mprint\u001b[39m(\u001b[33m\"\u001b[39m\u001b[33mproduct: \u001b[39m\u001b[33m\"\u001b[39m)\n\u001b[32m      4\u001b[39m     \u001b[38;5;28;01mfor\u001b[39;00m row \u001b[38;5;129;01min\u001b[39;00m product:\n",
      "\u001b[36mCell\u001b[39m\u001b[36m \u001b[39m\u001b[32mIn[18]\u001b[39m\u001b[32m, line 5\u001b[39m, in \u001b[36mMatProduct\u001b[39m\u001b[34m(mat1, mat2)\u001b[39m\n\u001b[32m      4\u001b[39m \u001b[38;5;28;01mdef\u001b[39;00m\u001b[38;5;250m \u001b[39m\u001b[34mMatProduct\u001b[39m(mat1,mat2):\n\u001b[32m----> \u001b[39m\u001b[32m5\u001b[39m     result=[[\u001b[32m0\u001b[39m \u001b[38;5;28;01mfor\u001b[39;00m _ \u001b[38;5;129;01min\u001b[39;00m \u001b[38;5;28mrange\u001b[39m(mat2[\u001b[32m0\u001b[39m])] \u001b[38;5;28;01mfor\u001b[39;00m _ \u001b[38;5;129;01min\u001b[39;00m \u001b[38;5;28;43mrange\u001b[39;49m\u001b[43m(\u001b[49m\u001b[43mmat1\u001b[49m\u001b[43m)\u001b[49m]  \u001b[38;5;66;03m#2by3 0 matrix\u001b[39;00m\n\u001b[32m      7\u001b[39m     \u001b[38;5;28;01mfor\u001b[39;00m i \u001b[38;5;129;01min\u001b[39;00m \u001b[38;5;28mrange\u001b[39m(\u001b[38;5;28mlen\u001b[39m(mat1)):\n\u001b[32m      8\u001b[39m         \u001b[38;5;28;01mfor\u001b[39;00m k \u001b[38;5;129;01min\u001b[39;00m \u001b[38;5;28mrange\u001b[39m(\u001b[38;5;28mlen\u001b[39m(mat2[\u001b[32m0\u001b[39m])):\n",
      "\u001b[31mTypeError\u001b[39m: 'list' object cannot be interpreted as an integer"
     ]
    }
   ],
   "source": [
    "with timer(\"matrix multiplication: \"):\n",
    "    product = MatProduct(mat1,mat2)\n",
    "    print(\"product: \")\n",
    "    for row in product:\n",
    "        print(row)\n"
   ]
  },
  {
   "cell_type": "code",
   "execution_count": 21,
   "id": "cdd711c4",
   "metadata": {},
   "outputs": [
    {
     "name": "stdout",
     "output_type": "stream",
     "text": [
      "[[33 31 21]\n",
      " [73 77 50]]\n"
     ]
    }
   ],
   "source": [
    "import numpy as np\n",
    "\n",
    "mat_01 = np.array(mat1)\n",
    "mat_02 = np.array(mat2)\n",
    "\n",
    "product_np = np.dot(mat1,mat2)\n",
    "print(product_np)"
   ]
  },
  {
   "cell_type": "code",
   "execution_count": 22,
   "id": "9dda53d0",
   "metadata": {},
   "outputs": [
    {
     "name": "stderr",
     "output_type": "stream",
     "text": [
      "'which' is not recognized as an internal or external command,\n",
      "operable program or batch file.\n"
     ]
    }
   ],
   "source": [
    "!which pip"
   ]
  }
 ],
 "metadata": {
  "kernelspec": {
   "display_name": "Python 3",
   "language": "python",
   "name": "python3"
  },
  "language_info": {
   "codemirror_mode": {
    "name": "ipython",
    "version": 3
   },
   "file_extension": ".py",
   "mimetype": "text/x-python",
   "name": "python",
   "nbconvert_exporter": "python",
   "pygments_lexer": "ipython3",
   "version": "3.12.4"
  }
 },
 "nbformat": 4,
 "nbformat_minor": 5
}
