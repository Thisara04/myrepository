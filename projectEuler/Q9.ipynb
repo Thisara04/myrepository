{
 "cells": [
  {
   "cell_type": "markdown",
   "id": "0bd2c364",
   "metadata": {},
   "source": [
    "Question 09"
   ]
  },
  {
   "cell_type": "code",
   "execution_count": 1,
   "id": "d68d8e54",
   "metadata": {},
   "outputs": [],
   "source": [
    "product=0"
   ]
  },
  {
   "cell_type": "code",
   "execution_count": 4,
   "id": "10c6dfbd",
   "metadata": {},
   "outputs": [],
   "source": [
    "for a in range(1,1000):\n",
    "    for b in range(1,1000):\n",
    "        if a**2 + b**2 == (1000-a-b)**2:\n",
    "            c=1000-a-b\n",
    "            product=a*b*c"
   ]
  },
  {
   "cell_type": "code",
   "execution_count": 5,
   "id": "8090032f",
   "metadata": {},
   "outputs": [
    {
     "name": "stdout",
     "output_type": "stream",
     "text": [
      "31875000\n"
     ]
    }
   ],
   "source": [
    "print(product)"
   ]
  }
 ],
 "metadata": {
  "kernelspec": {
   "display_name": "Python 3",
   "language": "python",
   "name": "python3"
  },
  "language_info": {
   "codemirror_mode": {
    "name": "ipython",
    "version": 3
   },
   "file_extension": ".py",
   "mimetype": "text/x-python",
   "name": "python",
   "nbconvert_exporter": "python",
   "pygments_lexer": "ipython3",
   "version": "3.12.4"
  }
 },
 "nbformat": 4,
 "nbformat_minor": 5
}
