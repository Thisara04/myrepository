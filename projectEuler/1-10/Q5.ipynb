{
 "cells": [
  {
   "cell_type": "code",
   "execution_count": 28,
   "id": "23c7da2e",
   "metadata": {},
   "outputs": [],
   "source": [
    "#get the prime factor list \n",
    "def primeFactors(num):\n",
    "    factors=[]\n",
    "\n",
    "    div=2\n",
    "    while num%div==0: \n",
    "        factors.append(div)\n",
    "        num=num/2\n",
    "\n",
    "    div=3\n",
    "\n",
    "    while num!=1:\n",
    "        while num%div==0:\n",
    "            factors.append(div)\n",
    "            num=num/div\n",
    "        div+=2\n",
    "\n",
    "    return factors"
   ]
  },
  {
   "cell_type": "code",
   "execution_count": 29,
   "id": "c4572853",
   "metadata": {},
   "outputs": [],
   "source": [
    "upperLimit = 20 #define the upper limt of numbers"
   ]
  },
  {
   "cell_type": "code",
   "execution_count": 30,
   "id": "69829a2c",
   "metadata": {},
   "outputs": [],
   "source": [
    "def isPrime(num):\n",
    "    if num<2:\n",
    "        return False\n",
    "    for i in range(2,int(num**0.5)+1):\n",
    "        if num%i==0:\n",
    "            return False\n",
    "    return True"
   ]
  },
  {
   "cell_type": "code",
   "execution_count": 31,
   "id": "3e02bded",
   "metadata": {},
   "outputs": [],
   "source": [
    "numList=[] #get[1 to 20 all numbers]\n",
    "for i in range(1,upperLimit+1):\n",
    "    numList.append(i)\n",
    "\n",
    "primeList=[] #get [1 to 20 prime numbers]\n",
    "for i in range(2,upperLimit+1):\n",
    "    if isPrime(i)==True:\n",
    "        primeList.append(i)"
   ]
  },
  {
   "cell_type": "code",
   "execution_count": 32,
   "id": "88f358d6",
   "metadata": {},
   "outputs": [],
   "source": [
    "#get number of prime factors for each primeFactor\\\\\\\n",
    "# in [2,3,5,7,11,1,31,7,19] format \n",
    "def totalFactor(factors): \n",
    "    factorList=[]\n",
    "    for i in primeList:\n",
    "        factorList.append(factors.count(i))\n",
    "    return factorList\n"
   ]
  },
  {
   "cell_type": "code",
   "execution_count": null,
   "id": "0f3a1884",
   "metadata": {},
   "outputs": [],
   "source": [
    "lists=[]\n",
    "\n",
    "for i in numList:\n",
    "    new_list=totalFactor(primeFactors(i))\n",
    "    lists.append(new_list)\n",
    "\n",
    "print(lists)"
   ]
  },
  {
   "cell_type": "code",
   "execution_count": null,
   "id": "350a8150",
   "metadata": {},
   "outputs": [],
   "source": [
    "maxFactors=[]\n",
    "for values in zip(*lists): \n",
    "    maxFactors.append(max(values))\n",
    "\n",
    "print(maxFactors)"
   ]
  },
  {
   "cell_type": "code",
   "execution_count": null,
   "id": "613d4d23",
   "metadata": {},
   "outputs": [],
   "source": [
    "product=1\n",
    "for n1,n2 in zip(primeList,maxFactors): \n",
    "    product=product*(n1**n2)\n",
    "print(product)"
   ]
  }
 ],
 "metadata": {
  "kernelspec": {
   "display_name": "Python 3",
   "language": "python",
   "name": "python3"
  },
  "language_info": {
   "codemirror_mode": {
    "name": "ipython",
    "version": 3
   },
   "file_extension": ".py",
   "mimetype": "text/x-python",
   "name": "python",
   "nbconvert_exporter": "python",
   "pygments_lexer": "ipython3",
   "version": "3.12.4"
  }
 },
 "nbformat": 4,
 "nbformat_minor": 5
}
