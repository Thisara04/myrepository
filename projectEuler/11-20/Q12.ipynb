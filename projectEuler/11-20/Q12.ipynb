{
 "cells": [
  {
   "cell_type": "markdown",
   "id": "c8e105cd",
   "metadata": {},
   "source": [
    "Method 01\n",
    "\n",
    "We, in for loop goes up to num**0.5 as in theory if sqrt(num) has an i divisor, it also has a num/i divisor\n",
    "\n",
    "But when considring perfect square roots i and num/i are same. \n",
    "So in that case we check if i!=num/i, consider it as two divisors and else only one divisor"
   ]
  },
  {
   "cell_type": "code",
   "execution_count": 31,
   "id": "eb3b0278",
   "metadata": {},
   "outputs": [],
   "source": [
    "#get the count of all the divisors of a number\n",
    "def divCount(num):\n",
    "    count=0\n",
    "    for i in range(1,int(num**0.5)+1):\n",
    "        if num%i==0:\n",
    "            if i!=num/i:\n",
    "                count+=2\n",
    "            else:\n",
    "                count+=1\n",
    "    return (count)"
   ]
  },
  {
   "cell_type": "code",
   "execution_count": 32,
   "id": "1d5efbf0",
   "metadata": {},
   "outputs": [],
   "source": [
    "n=1\n",
    "addValue=2\n",
    "\n",
    "#loop through only triangle numbers and check the conditions\n",
    "while divCount(n)<500:\n",
    "    n+=addValue\n",
    "    addValue+=1"
   ]
  },
  {
   "cell_type": "code",
   "execution_count": null,
   "id": "7853e648",
   "metadata": {},
   "outputs": [],
   "source": [
    "#print the number with more than 500 divisors\n",
    "print(n)"
   ]
  },
  {
   "cell_type": "markdown",
   "id": "db8dc698",
   "metadata": {},
   "source": [
    "Method 02\n",
    "\n",
    "Mathematically if 12 = 2^2 + 3^1 , 12's divisors are (2+1)*(1+1)\n",
    "\n",
    "Ex:- 60=2^2+3^1+5^1, then 60's divs = (2+1)*(1+1)*(1+1)"
   ]
  },
  {
   "cell_type": "code",
   "execution_count": 42,
   "id": "cde72004",
   "metadata": {},
   "outputs": [],
   "source": [
    "#get all the prime factors of a given number\n",
    "def primeFactors(num):\n",
    "    factors=[]\n",
    "    div=2 \n",
    "    while num%div==0:\n",
    "        factors.append(div)\n",
    "        num=num/div\n",
    "    \n",
    "    div=3\n",
    "    while num!=1:\n",
    "        while num%div==0:\n",
    "            factors.append(div)\n",
    "            num=num/div\n",
    "        div+=2\n",
    "    \n",
    "    return factors"
   ]
  },
  {
   "cell_type": "code",
   "execution_count": 43,
   "id": "d78346ed",
   "metadata": {},
   "outputs": [],
   "source": [
    "#get rid of the duplications of prime factors\n",
    "def primeDivs(num): \n",
    "    #factors is a list with all prime factors with duplications\n",
    "    factors=primeFactors(num)\n",
    "    \n",
    "    primeList=[] \n",
    "    for i in factors:\n",
    "        if i not in primeList:\n",
    "            primeList.append(i)\n",
    "    return primeList"
   ]
  },
  {
   "cell_type": "code",
   "execution_count": 44,
   "id": "8d7f63d7",
   "metadata": {},
   "outputs": [],
   "source": [
    "def divCount(num):\n",
    "    #divisor count\n",
    "    count=1\n",
    "\n",
    "    #primeList is the list of primes withot duplicates\n",
    "    primeList=primeDivs(num) \n",
    "    for item in primeList:\n",
    "        count=count*(primeFactors(num).count(item)+1)\n",
    "    return count"
   ]
  },
  {
   "cell_type": "code",
   "execution_count": 45,
   "id": "7006eeda",
   "metadata": {},
   "outputs": [],
   "source": [
    "n=1\n",
    "addValue=2\n",
    "\n",
    "#loop through only triangle numbers and check the conditions\n",
    "while divCount(n)<500:\n",
    "    n+=addValue\n",
    "    addValue+=1"
   ]
  },
  {
   "cell_type": "code",
   "execution_count": null,
   "id": "7bd5dab9",
   "metadata": {},
   "outputs": [],
   "source": [
    "print(n)"
   ]
  },
  {
   "cell_type": "markdown",
   "id": "c83aab87",
   "metadata": {},
   "source": [
    "Method 03"
   ]
  },
  {
   "cell_type": "code",
   "execution_count": 48,
   "id": "7d7396f7",
   "metadata": {},
   "outputs": [
    {
     "name": "stdout",
     "output_type": "stream",
     "text": [
      "76576500\n"
     ]
    }
   ],
   "source": [
    "import math\n",
    "\n",
    "def count_divisors(n):\n",
    "    count = 1\n",
    "    p = 2\n",
    "    while n > 1:\n",
    "        exp = 0\n",
    "        while n % p == 0:\n",
    "            n //= p\n",
    "            exp += 1\n",
    "        count *= (exp + 1)\n",
    "        p += 1\n",
    "        if p * p > n:\n",
    "            if n > 1:\n",
    "                count *= 2\n",
    "            break\n",
    "    return count\n",
    "\n",
    "n = 1\n",
    "while True:\n",
    "    if n % 2 == 0:\n",
    "        divisors = count_divisors(n // 2) * count_divisors(n + 1)\n",
    "    else:\n",
    "        divisors = count_divisors(n) * count_divisors((n + 1) // 2)\n",
    "\n",
    "    if divisors > 500:\n",
    "        print((n * (n + 1)) // 2)\n",
    "        break\n",
    "    n += 1\n"
   ]
  }
 ],
 "metadata": {
  "kernelspec": {
   "display_name": "Python 3",
   "language": "python",
   "name": "python3"
  },
  "language_info": {
   "codemirror_mode": {
    "name": "ipython",
    "version": 3
   },
   "file_extension": ".py",
   "mimetype": "text/x-python",
   "name": "python",
   "nbconvert_exporter": "python",
   "pygments_lexer": "ipython3",
   "version": "3.12.4"
  }
 },
 "nbformat": 4,
 "nbformat_minor": 5
}
