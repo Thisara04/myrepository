{
 "cells": [
  {
   "cell_type": "markdown",
   "id": "b8ca5012",
   "metadata": {},
   "source": [
    "Question 02"
   ]
  },
  {
   "cell_type": "code",
   "execution_count": 1,
   "id": "b8556883",
   "metadata": {},
   "outputs": [
    {
     "name": "stdout",
     "output_type": "stream",
     "text": [
      "4613732\n"
     ]
    }
   ],
   "source": [
    "fibbList=[1,1]\n",
    "evenSum=0\n",
    "temp=0\n",
    "while temp<4000000:\n",
    "    n=len(fibbList)\n",
    "    temp=fibbList[n-2]+fibbList[n-1]\n",
    "    fibbList.append(temp)\n",
    "    if temp%2==0:\n",
    "        evenSum+=temp\n",
    "print(evenSum)"
   ]
  },
  {
   "cell_type": "code",
   "execution_count": 2,
   "id": "22e851f6",
   "metadata": {},
   "outputs": [
    {
     "name": "stdout",
     "output_type": "stream",
     "text": [
      "4613732\n"
     ]
    }
   ],
   "source": [
    "fibbList=[1,1]\n",
    "evenSum=0\n",
    "temp=0\n",
    "while True:\n",
    "    n=len(fibbList)\n",
    "    temp=fibbList[n-2]+fibbList[n-1]\n",
    "    fibbList.append(temp)\n",
    "    if temp>4000000:\n",
    "        break\n",
    "    elif temp%2==0:\n",
    "        evenSum+=temp\n",
    "print(evenSum)"
   ]
  },
  {
   "cell_type": "code",
   "execution_count": 6,
   "id": "51d00e99",
   "metadata": {},
   "outputs": [
    {
     "name": "stdout",
     "output_type": "stream",
     "text": [
      "4613732\n"
     ]
    }
   ],
   "source": [
    "limit=4000000\n",
    "a=1\n",
    "b=1\n",
    "c=a+b\n",
    "evenSum=0\n",
    "while c<limit:  \n",
    "    if c%2==0:\n",
    "        evenSum+=c\n",
    "    a=b\n",
    "    b=c\n",
    "    c=a+b\n",
    "print(evenSum)"
   ]
  }
 ],
 "metadata": {
  "kernelspec": {
   "display_name": "Python 3",
   "language": "python",
   "name": "python3"
  },
  "language_info": {
   "codemirror_mode": {
    "name": "ipython",
    "version": 3
   },
   "file_extension": ".py",
   "mimetype": "text/x-python",
   "name": "python",
   "nbconvert_exporter": "python",
   "pygments_lexer": "ipython3",
   "version": "3.12.4"
  }
 },
 "nbformat": 4,
 "nbformat_minor": 5
}
