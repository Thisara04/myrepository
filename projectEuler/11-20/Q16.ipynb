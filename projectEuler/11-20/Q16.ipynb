{
 "cells": [
  {
   "cell_type": "code",
   "execution_count": null,
   "id": "221d77e0",
   "metadata": {},
   "outputs": [],
   "source": [
    "powNum=pow(2,1000)"
   ]
  },
  {
   "cell_type": "code",
   "execution_count": null,
   "id": "882127ca",
   "metadata": {},
   "outputs": [],
   "source": [
    "digitSum=0\n",
    "\n",
    "for i in str(powNum):\n",
    "    digitSum+=int(i)"
   ]
  },
  {
   "cell_type": "code",
   "execution_count": null,
   "id": "b3c81e3e",
   "metadata": {},
   "outputs": [],
   "source": [
    "print(digitSum)"
   ]
  }
 ],
 "metadata": {
  "language_info": {
   "name": "python"
  }
 },
 "nbformat": 4,
 "nbformat_minor": 5
}
