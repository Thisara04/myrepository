{
 "cells": [
  {
   "cell_type": "markdown",
   "id": "75425d15",
   "metadata": {},
   "source": [
    "Question 06"
   ]
  },
  {
   "cell_type": "code",
   "execution_count": 1,
   "id": "05ec4495",
   "metadata": {},
   "outputs": [],
   "source": [
    "def sumOfSqrs(n):\n",
    "    return sum(i**2 for i in range(1,n+1))\n",
    "def sqrOfSums(n):\n",
    "    return sum(range(1,n+1))**2\n",
    "def diff(n):\n",
    "    return sqrOfSums(n)-sumOfSqrs(n)    "
   ]
  },
  {
   "cell_type": "code",
   "execution_count": null,
   "id": "e3f889e8",
   "metadata": {},
   "outputs": [],
   "source": [
    "print(diff(100))"
   ]
  }
 ],
 "metadata": {
  "kernelspec": {
   "display_name": "Python 3",
   "language": "python",
   "name": "python3"
  },
  "language_info": {
   "codemirror_mode": {
    "name": "ipython",
    "version": 3
   },
   "file_extension": ".py",
   "mimetype": "text/x-python",
   "name": "python",
   "nbconvert_exporter": "python",
   "pygments_lexer": "ipython3",
   "version": "3.12.4"
  }
 },
 "nbformat": 4,
 "nbformat_minor": 5
}
