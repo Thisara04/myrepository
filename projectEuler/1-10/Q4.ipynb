{
 "cells": [
  {
   "cell_type": "markdown",
   "id": "4e9dc9e2",
   "metadata": {},
   "source": [
    "Question 04"
   ]
  },
  {
   "cell_type": "code",
   "execution_count": 3,
   "id": "fc82e44f",
   "metadata": {},
   "outputs": [],
   "source": [
    "def isPalindrom(num):\n",
    "    if str(num)==str(num)[::-1]:\n",
    "        return True\n",
    "    return"
   ]
  },
  {
   "cell_type": "code",
   "execution_count": 4,
   "id": "656be42a",
   "metadata": {},
   "outputs": [],
   "source": [
    "maxProduct=0\n",
    "product=0"
   ]
  },
  {
   "cell_type": "code",
   "execution_count": 5,
   "id": "0468071e",
   "metadata": {},
   "outputs": [],
   "source": [
    "for n1 in range(100,1000):\n",
    "    for n2 in range(100,1000):\n",
    "        product=n1*n2\n",
    "        if isPalindrom(product)==True and maxProduct<product:\n",
    "            maxProduct=product\n"
   ]
  },
  {
   "cell_type": "code",
   "execution_count": null,
   "id": "4806563e",
   "metadata": {},
   "outputs": [],
   "source": [
    "print(maxProduct)"
   ]
  }
 ],
 "metadata": {
  "kernelspec": {
   "display_name": "Python 3",
   "language": "python",
   "name": "python3"
  },
  "language_info": {
   "codemirror_mode": {
    "name": "ipython",
    "version": 3
   },
   "file_extension": ".py",
   "mimetype": "text/x-python",
   "name": "python",
   "nbconvert_exporter": "python",
   "pygments_lexer": "ipython3",
   "version": "3.12.4"
  }
 },
 "nbformat": 4,
 "nbformat_minor": 5
}
