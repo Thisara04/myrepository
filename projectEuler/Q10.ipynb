{
 "cells": [
  {
   "cell_type": "markdown",
   "id": "aa9876b1",
   "metadata": {},
   "source": [
    "Question 10  "
   ]
  },
  {
   "cell_type": "code",
   "execution_count": 5,
   "id": "c5585bb1",
   "metadata": {},
   "outputs": [],
   "source": [
    "def isPrime(num):\n",
    "    if num<2:\n",
    "        return False\n",
    "    for i in range(2,int(num**0.5)+1):  \n",
    "        if num%i==0:\n",
    "            return False\n",
    "    return True"
   ]
  },
  {
   "cell_type": "code",
   "execution_count": 6,
   "id": "8cc59b84",
   "metadata": {},
   "outputs": [],
   "source": [
    "primeSum=2"
   ]
  },
  {
   "cell_type": "code",
   "execution_count": 7,
   "id": "9092c618",
   "metadata": {},
   "outputs": [],
   "source": [
    "for i in range(3,2000000,2):\n",
    "    if isPrime(i)==True:\n",
    "        primeSum+=i"
   ]
  },
  {
   "cell_type": "code",
   "execution_count": 8,
   "id": "a292da6b",
   "metadata": {},
   "outputs": [
    {
     "name": "stdout",
     "output_type": "stream",
     "text": [
      "142913828922\n"
     ]
    }
   ],
   "source": [
    "print(primeSum)"
   ]
  }
 ],
 "metadata": {
  "kernelspec": {
   "display_name": "Python 3",
   "language": "python",
   "name": "python3"
  },
  "language_info": {
   "codemirror_mode": {
    "name": "ipython",
    "version": 3
   },
   "file_extension": ".py",
   "mimetype": "text/x-python",
   "name": "python",
   "nbconvert_exporter": "python",
   "pygments_lexer": "ipython3",
   "version": "3.12.4"
  }
 },
 "nbformat": 4,
 "nbformat_minor": 5
}
