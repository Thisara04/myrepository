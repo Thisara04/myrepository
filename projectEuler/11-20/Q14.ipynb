{
 "cells": [
  {
   "cell_type": "code",
   "execution_count": null,
   "id": "ea83dfef",
   "metadata": {},
   "outputs": [],
   "source": [
    "def collatz(num,count=1):\n",
    "    if num==1:\n",
    "        return count\n",
    "    elif num%2==0:\n",
    "        return collatz(num/2,count+1)\n",
    "    else:\n",
    "        return collatz(3*num+1,count+1)"
   ]
  },
  {
   "cell_type": "code",
   "execution_count": null,
   "id": "59d1d09a",
   "metadata": {},
   "outputs": [],
   "source": []
  },
  {
   "cell_type": "code",
   "execution_count": null,
   "id": "2f94676c",
   "metadata": {},
   "outputs": [],
   "source": []
  },
  {
   "cell_type": "code",
   "execution_count": null,
   "id": "db9fa6d4",
   "metadata": {},
   "outputs": [
    {
     "ename": "KeyboardInterrupt",
     "evalue": "",
     "output_type": "error",
     "traceback": [
      "\u001b[31m---------------------------------------------------------------------------\u001b[39m",
      "\u001b[31mKeyboardInterrupt\u001b[39m                         Traceback (most recent call last)",
      "\u001b[36mCell\u001b[39m\u001b[36m \u001b[39m\u001b[32mIn[3]\u001b[39m\u001b[32m, line 2\u001b[39m\n\u001b[32m      1\u001b[39m \u001b[38;5;28;01mfor\u001b[39;00m num \u001b[38;5;129;01min\u001b[39;00m \u001b[38;5;28mrange\u001b[39m(\u001b[32m1\u001b[39m,\u001b[32m1000000\u001b[39m):\n\u001b[32m----> \u001b[39m\u001b[32m2\u001b[39m     \u001b[38;5;28;01mwhile\u001b[39;00m num!=\u001b[32m1\u001b[39m:\n\u001b[32m      3\u001b[39m         \u001b[38;5;28;01mif\u001b[39;00m num%\u001b[32m2\u001b[39m==\u001b[32m0\u001b[39m:\n\u001b[32m      4\u001b[39m             num=num/\u001b[32m2\u001b[39m\n",
      "\u001b[31mKeyboardInterrupt\u001b[39m: "
     ]
    }
   ],
   "source": [
    " "
   ]
  },
  {
   "cell_type": "code",
   "execution_count": 4,
   "id": "37f28b8e",
   "metadata": {},
   "outputs": [
    {
     "name": "stdout",
     "output_type": "stream",
     "text": [
      "525\n",
      "837799\n"
     ]
    }
   ],
   "source": [
    "p=0\n",
    "n_max=0\n",
    "for n in range(1,1000000):\n",
    "    i=0\n",
    "    m=n\n",
    "    while n!=1:\n",
    "        if n%2==0:\n",
    "            n=n/2\n",
    "        else:\n",
    "            n=3*n+1\n",
    "        i+=1\n",
    "    if p<i:\n",
    "        p=i\n",
    "        n_max=m\n",
    "    else:\n",
    "        p=p\n",
    "        n_max=n_max\n",
    "\n",
    "print(p+1)\n",
    "print(n_max)\n"
   ]
  }
 ],
 "metadata": {
  "kernelspec": {
   "display_name": "Python 3",
   "language": "python",
   "name": "python3"
  },
  "language_info": {
   "codemirror_mode": {
    "name": "ipython",
    "version": 3
   },
   "file_extension": ".py",
   "mimetype": "text/x-python",
   "name": "python",
   "nbconvert_exporter": "python",
   "pygments_lexer": "ipython3",
   "version": "3.12.4"
  }
 },
 "nbformat": 4,
 "nbformat_minor": 5
}
